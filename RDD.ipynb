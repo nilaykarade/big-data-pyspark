{
 "cells": [
  {
   "cell_type": "code",
   "execution_count": 0,
   "metadata": {
    "application/vnd.databricks.v1+cell": {
     "cellMetadata": {
      "byteLimit": 2048000,
      "rowLimit": 10000
     },
     "inputWidgets": {},
     "nuid": "bc6f09ba-8904-4b0c-9f0b-c81a87a8e17d",
     "showTitle": false,
     "title": ""
    }
   },
   "outputs": [],
   "source": [
    "from pyspark import SparkConf, SparkContext\n",
    "spark_config = SparkConf().setAppName(\"RDD\")\n",
    "sc = SparkContext.getOrCreate(conf=spark_config)"
   ]
  },
  {
   "cell_type": "code",
   "execution_count": 0,
   "metadata": {
    "application/vnd.databricks.v1+cell": {
     "cellMetadata": {
      "byteLimit": 2048000,
      "rowLimit": 10000
     },
     "inputWidgets": {},
     "nuid": "62c0d1fb-d9ff-4a79-af51-76a1bf18578b",
     "showTitle": false,
     "title": ""
    }
   },
   "outputs": [],
   "source": [
    "rdd = sc.textFile('/FileStore/shared_uploads/nilaykarade@gmail.com/data1.txt')"
   ]
  },
  {
   "cell_type": "code",
   "execution_count": 0,
   "metadata": {
    "application/vnd.databricks.v1+cell": {
     "cellMetadata": {
      "byteLimit": 2048000,
      "rowLimit": 10000
     },
     "inputWidgets": {},
     "nuid": "07f8b552-5a0d-4e7a-a935-85c6089745cd",
     "showTitle": false,
     "title": ""
    }
   },
   "outputs": [
    {
     "output_type": "stream",
     "name": "stdout",
     "output_type": "stream",
     "text": [
      "Out[8]: ['1 2 3', '4 5 6', '8 9 10']"
     ]
    }
   ],
   "source": [
    "rdd.collect()"
   ]
  },
  {
   "cell_type": "code",
   "execution_count": 0,
   "metadata": {
    "application/vnd.databricks.v1+cell": {
     "cellMetadata": {
      "byteLimit": 2048000,
      "rowLimit": 10000
     },
     "inputWidgets": {},
     "nuid": "9f68a7f0-93bb-45ca-be01-1d7d2daa7ff5",
     "showTitle": false,
     "title": ""
    }
   },
   "outputs": [],
   "source": [
    "rdd2 = rdd.map(lambda x: x.split())"
   ]
  },
  {
   "cell_type": "code",
   "execution_count": 0,
   "metadata": {
    "application/vnd.databricks.v1+cell": {
     "cellMetadata": {
      "byteLimit": 2048000,
      "rowLimit": 10000
     },
     "inputWidgets": {},
     "nuid": "f0d7b984-2468-4313-b923-243b6b76d972",
     "showTitle": false,
     "title": ""
    }
   },
   "outputs": [
    {
     "output_type": "stream",
     "name": "stdout",
     "output_type": "stream",
     "text": [
      "Out[11]: [['1', '2', '3'], ['4', '5', '6'], ['8', '9', '10']]"
     ]
    }
   ],
   "source": [
    "rdd2.collect()"
   ]
  },
  {
   "cell_type": "code",
   "execution_count": 0,
   "metadata": {
    "application/vnd.databricks.v1+cell": {
     "cellMetadata": {
      "byteLimit": 2048000,
      "rowLimit": 10000
     },
     "inputWidgets": {},
     "nuid": "806aeedc-c365-43e0-b1ea-33fc0729e8c7",
     "showTitle": false,
     "title": ""
    }
   },
   "outputs": [],
   "source": [
    "def f1(x):\n",
    "    return x.split()"
   ]
  },
  {
   "cell_type": "code",
   "execution_count": 0,
   "metadata": {
    "application/vnd.databricks.v1+cell": {
     "cellMetadata": {
      "byteLimit": 2048000,
      "rowLimit": 10000
     },
     "inputWidgets": {},
     "nuid": "fa7c8056-ef4e-4252-a2b9-1923931a4d54",
     "showTitle": false,
     "title": ""
    }
   },
   "outputs": [
    {
     "output_type": "stream",
     "name": "stdout",
     "output_type": "stream",
     "text": [
      "Out[13]: [['1', '2', '3'], ['4', '5', '6'], ['8', '9', '10']]"
     ]
    }
   ],
   "source": [
    "rdd3 = rdd.map(f1)\n",
    "rdd3.collect()"
   ]
  },
  {
   "cell_type": "code",
   "execution_count": 0,
   "metadata": {
    "application/vnd.databricks.v1+cell": {
     "cellMetadata": {
      "byteLimit": 2048000,
      "rowLimit": 10000
     },
     "inputWidgets": {},
     "nuid": "7fc7f5e3-0d98-498f-a157-29f37aab78e3",
     "showTitle": false,
     "title": ""
    }
   },
   "outputs": [],
   "source": [
    "def sqr(num):\n",
    "    x= num.split()\n",
    "    lst = []\n",
    "    lst2 = []\n",
    "    for i in x:\n",
    "        lst = []\n",
    "        for j in i.split():\n",
    "            s = int(j)*int(j)\n",
    "            lst.append(s)\n",
    "        lst2.append(lst)\n",
    "    return lst2"
   ]
  },
  {
   "cell_type": "code",
   "execution_count": 0,
   "metadata": {
    "application/vnd.databricks.v1+cell": {
     "cellMetadata": {
      "byteLimit": 2048000,
      "rowLimit": 10000
     },
     "inputWidgets": {},
     "nuid": "4073ed20-a32d-4bd5-bafc-4f9993d61986",
     "showTitle": false,
     "title": ""
    }
   },
   "outputs": [
    {
     "output_type": "stream",
     "name": "stdout",
     "output_type": "stream",
     "text": [
      "Out[15]: [[[1], [4], [9]], [[16], [25], [36]], [[64], [81], [100]]]"
     ]
    }
   ],
   "source": [
    "rdd4 = rdd.map(sqr)\n",
    "rdd4.collect()"
   ]
  },
  {
   "cell_type": "code",
   "execution_count": 0,
   "metadata": {
    "application/vnd.databricks.v1+cell": {
     "cellMetadata": {
      "byteLimit": 2048000,
      "rowLimit": 10000
     },
     "inputWidgets": {},
     "nuid": "a9c7cded-9c7c-4827-b5e4-40618f6c222a",
     "showTitle": false,
     "title": ""
    }
   },
   "outputs": [
    {
     "output_type": "stream",
     "name": "stdout",
     "output_type": "stream",
     "text": [
      "Out[16]: ['1', '2', '3', '4', '5', '6', '8', '9', '10']"
     ]
    }
   ],
   "source": [
    "rdd5 = rdd.flatMap(lambda x:x.split())\n",
    "rdd5.collect()"
   ]
  },
  {
   "cell_type": "code",
   "execution_count": 0,
   "metadata": {
    "application/vnd.databricks.v1+cell": {
     "cellMetadata": {
      "byteLimit": 2048000,
      "rowLimit": 10000
     },
     "inputWidgets": {},
     "nuid": "f68899ac-d353-4fde-8c6c-0a56a1deeb2c",
     "showTitle": false,
     "title": ""
    }
   },
   "outputs": [
    {
     "output_type": "stream",
     "name": "stdout",
     "output_type": "stream",
     "text": [
      "Out[19]: ['1 2 3', '4 5 6', '8 9 10']"
     ]
    }
   ],
   "source": [
    "rdd.collect()"
   ]
  },
  {
   "cell_type": "code",
   "execution_count": 0,
   "metadata": {
    "application/vnd.databricks.v1+cell": {
     "cellMetadata": {
      "byteLimit": 2048000,
      "rowLimit": 10000
     },
     "inputWidgets": {},
     "nuid": "3dddda97-df3d-4ffc-9b50-5e3e42423b92",
     "showTitle": false,
     "title": ""
    }
   },
   "outputs": [
    {
     "output_type": "stream",
     "name": "stdout",
     "output_type": "stream",
     "text": [
      "Out[20]: ['1 2 3', '8 9 10']"
     ]
    }
   ],
   "source": [
    "rdd6 = rdd.filter(lambda x: x!='4 5 6')\n",
    "rdd6.collect()"
   ]
  },
  {
   "cell_type": "code",
   "execution_count": 0,
   "metadata": {
    "application/vnd.databricks.v1+cell": {
     "cellMetadata": {
      "byteLimit": 2048000,
      "rowLimit": 10000
     },
     "inputWidgets": {},
     "nuid": "edef87aa-9817-4be0-ba03-2ce2e0943d28",
     "showTitle": false,
     "title": ""
    }
   },
   "outputs": [
    {
     "output_type": "stream",
     "name": "stdout",
     "output_type": "stream",
     "text": [
      "Out[21]: ['lagos', 'abuja', 'capetown', 'joburg']"
     ]
    }
   ],
   "source": [
    "rdd_cities=sc.textFile('/FileStore/shared_uploads/nilaykarade@gmail.com/cities.txt')\n",
    "rdd_cities.collect()"
   ]
  },
  {
   "cell_type": "code",
   "execution_count": 0,
   "metadata": {
    "application/vnd.databricks.v1+cell": {
     "cellMetadata": {
      "byteLimit": 2048000,
      "rowLimit": 10000
     },
     "inputWidgets": {},
     "nuid": "2446a742-e23a-41e8-8ed6-00fa403da91d",
     "showTitle": false,
     "title": ""
    }
   },
   "outputs": [
    {
     "output_type": "stream",
     "name": "stdout",
     "output_type": "stream",
     "text": [
      "Out[22]: ['lagos']"
     ]
    }
   ],
   "source": [
    "rdd8 = rdd_cities.filter(lambda x: x.startswith('l'))\n",
    "rdd8.collect()"
   ]
  },
  {
   "cell_type": "code",
   "execution_count": 0,
   "metadata": {
    "application/vnd.databricks.v1+cell": {
     "cellMetadata": {
      "byteLimit": 2048000,
      "rowLimit": 10000
     },
     "inputWidgets": {},
     "nuid": "a6fd00b7-a4a0-411a-ba94-534688fed4f7",
     "showTitle": false,
     "title": ""
    }
   },
   "outputs": [
    {
     "output_type": "stream",
     "name": "stdout",
     "output_type": "stream",
     "text": [
      "Out[23]: ['j j1 j2 j3', 'd d1 d2 d3', 'c c1 c2 c3']"
     ]
    }
   ],
   "source": [
    "ct=sc.textFile('/FileStore/shared_uploads/nilaykarade@gmail.com/citis_towns.txt')\n",
    "ct.collect()"
   ]
  },
  {
   "cell_type": "code",
   "execution_count": 0,
   "metadata": {
    "application/vnd.databricks.v1+cell": {
     "cellMetadata": {
      "byteLimit": 2048000,
      "rowLimit": 10000
     },
     "inputWidgets": {},
     "nuid": "2d3313f8-0f7a-499a-a54d-2fccdede3f85",
     "showTitle": false,
     "title": ""
    }
   },
   "outputs": [
    {
     "output_type": "stream",
     "name": "stdout",
     "output_type": "stream",
     "text": [
      "Out[24]: [['j', 'j1', 'j2', 'j3'], ['d', 'd1', 'd2', 'd3'], ['c', 'c1', 'c2', 'c3']]"
     ]
    }
   ],
   "source": [
    "ct2 = ct.map(lambda x: x.split())\n",
    "ct2.collect()"
   ]
  },
  {
   "cell_type": "code",
   "execution_count": 0,
   "metadata": {
    "application/vnd.databricks.v1+cell": {
     "cellMetadata": {},
     "inputWidgets": {},
     "nuid": "9e1de13b-e1e1-4b29-8cfe-f3de8042c98a",
     "showTitle": false,
     "title": ""
    }
   },
   "outputs": [],
   "source": [
    "def sqr(ct_data):\n",
    "    data= ct_data.split()\n",
    "    city = []\n",
    "    towns = []\n",
    "    for item in data:\n",
    "        \n",
    "        \n",
    "    return lst2"
   ]
  }
 ],
 "metadata": {
  "application/vnd.databricks.v1+notebook": {
   "dashboards": [],
   "language": "python",
   "notebookMetadata": {
    "pythonIndentUnit": 4
   },
   "notebookName": "RDD",
   "widgets": {}
  }
 },
 "nbformat": 4,
 "nbformat_minor": 0
}
